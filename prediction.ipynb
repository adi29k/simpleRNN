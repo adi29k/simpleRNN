{
 "cells": [
  {
   "cell_type": "code",
   "execution_count": 2,
   "metadata": {},
   "outputs": [],
   "source": [
    "# Step 1: Import Libraries and Load the Model\n",
    "import numpy as np\n",
    "import tensorflow as tf\n",
    "from tensorflow.keras.datasets import imdb\n",
    "from tensorflow.keras.preprocessing import sequence\n",
    "from tensorflow.keras.models import load_model"
   ]
  },
  {
   "cell_type": "code",
   "execution_count": 3,
   "metadata": {},
   "outputs": [],
   "source": [
    "\n",
    "# Load the IMDB dataset word index\n",
    "word_index = imdb.get_word_index()\n",
    "reverse_word_index = {value: key for key, value in word_index.items()}"
   ]
  },
  {
   "cell_type": "code",
   "execution_count": 4,
   "metadata": {},
   "outputs": [
    {
     "name": "stderr",
     "output_type": "stream",
     "text": [
      "WARNING:absl:Compiled the loaded model, but the compiled metrics have yet to be built. `model.compile_metrics` will be empty until you train or evaluate the model.\n"
     ]
    },
    {
     "data": {
      "text/html": [
       "<pre style=\"white-space:pre;overflow-x:auto;line-height:normal;font-family:Menlo,'DejaVu Sans Mono',consolas,'Courier New',monospace\"><span style=\"font-weight: bold\">Model: \"sequential\"</span>\n",
       "</pre>\n"
      ],
      "text/plain": [
       "\u001b[1mModel: \"sequential\"\u001b[0m\n"
      ]
     },
     "metadata": {},
     "output_type": "display_data"
    },
    {
     "data": {
      "text/html": [
       "<pre style=\"white-space:pre;overflow-x:auto;line-height:normal;font-family:Menlo,'DejaVu Sans Mono',consolas,'Courier New',monospace\">┏━━━━━━━━━━━━━━━━━━━━━━━━━━━━━━━━━┳━━━━━━━━━━━━━━━━━━━━━━━━┳━━━━━━━━━━━━━━━┓\n",
       "┃<span style=\"font-weight: bold\"> Layer (type)                    </span>┃<span style=\"font-weight: bold\"> Output Shape           </span>┃<span style=\"font-weight: bold\">       Param # </span>┃\n",
       "┡━━━━━━━━━━━━━━━━━━━━━━━━━━━━━━━━━╇━━━━━━━━━━━━━━━━━━━━━━━━╇━━━━━━━━━━━━━━━┩\n",
       "│ embedding (<span style=\"color: #0087ff; text-decoration-color: #0087ff\">Embedding</span>)           │ (<span style=\"color: #00af00; text-decoration-color: #00af00\">32</span>, <span style=\"color: #00af00; text-decoration-color: #00af00\">500</span>, <span style=\"color: #00af00; text-decoration-color: #00af00\">128</span>)         │     <span style=\"color: #00af00; text-decoration-color: #00af00\">1,280,000</span> │\n",
       "├─────────────────────────────────┼────────────────────────┼───────────────┤\n",
       "│ simple_rnn (<span style=\"color: #0087ff; text-decoration-color: #0087ff\">SimpleRNN</span>)          │ (<span style=\"color: #00af00; text-decoration-color: #00af00\">32</span>, <span style=\"color: #00af00; text-decoration-color: #00af00\">128</span>)              │        <span style=\"color: #00af00; text-decoration-color: #00af00\">32,896</span> │\n",
       "├─────────────────────────────────┼────────────────────────┼───────────────┤\n",
       "│ dense (<span style=\"color: #0087ff; text-decoration-color: #0087ff\">Dense</span>)                   │ (<span style=\"color: #00af00; text-decoration-color: #00af00\">32</span>, <span style=\"color: #00af00; text-decoration-color: #00af00\">1</span>)                │           <span style=\"color: #00af00; text-decoration-color: #00af00\">129</span> │\n",
       "└─────────────────────────────────┴────────────────────────┴───────────────┘\n",
       "</pre>\n"
      ],
      "text/plain": [
       "┏━━━━━━━━━━━━━━━━━━━━━━━━━━━━━━━━━┳━━━━━━━━━━━━━━━━━━━━━━━━┳━━━━━━━━━━━━━━━┓\n",
       "┃\u001b[1m \u001b[0m\u001b[1mLayer (type)                   \u001b[0m\u001b[1m \u001b[0m┃\u001b[1m \u001b[0m\u001b[1mOutput Shape          \u001b[0m\u001b[1m \u001b[0m┃\u001b[1m \u001b[0m\u001b[1m      Param #\u001b[0m\u001b[1m \u001b[0m┃\n",
       "┡━━━━━━━━━━━━━━━━━━━━━━━━━━━━━━━━━╇━━━━━━━━━━━━━━━━━━━━━━━━╇━━━━━━━━━━━━━━━┩\n",
       "│ embedding (\u001b[38;5;33mEmbedding\u001b[0m)           │ (\u001b[38;5;34m32\u001b[0m, \u001b[38;5;34m500\u001b[0m, \u001b[38;5;34m128\u001b[0m)         │     \u001b[38;5;34m1,280,000\u001b[0m │\n",
       "├─────────────────────────────────┼────────────────────────┼───────────────┤\n",
       "│ simple_rnn (\u001b[38;5;33mSimpleRNN\u001b[0m)          │ (\u001b[38;5;34m32\u001b[0m, \u001b[38;5;34m128\u001b[0m)              │        \u001b[38;5;34m32,896\u001b[0m │\n",
       "├─────────────────────────────────┼────────────────────────┼───────────────┤\n",
       "│ dense (\u001b[38;5;33mDense\u001b[0m)                   │ (\u001b[38;5;34m32\u001b[0m, \u001b[38;5;34m1\u001b[0m)                │           \u001b[38;5;34m129\u001b[0m │\n",
       "└─────────────────────────────────┴────────────────────────┴───────────────┘\n"
      ]
     },
     "metadata": {},
     "output_type": "display_data"
    },
    {
     "data": {
      "text/html": [
       "<pre style=\"white-space:pre;overflow-x:auto;line-height:normal;font-family:Menlo,'DejaVu Sans Mono',consolas,'Courier New',monospace\"><span style=\"font-weight: bold\"> Total params: </span><span style=\"color: #00af00; text-decoration-color: #00af00\">1,313,027</span> (5.01 MB)\n",
       "</pre>\n"
      ],
      "text/plain": [
       "\u001b[1m Total params: \u001b[0m\u001b[38;5;34m1,313,027\u001b[0m (5.01 MB)\n"
      ]
     },
     "metadata": {},
     "output_type": "display_data"
    },
    {
     "data": {
      "text/html": [
       "<pre style=\"white-space:pre;overflow-x:auto;line-height:normal;font-family:Menlo,'DejaVu Sans Mono',consolas,'Courier New',monospace\"><span style=\"font-weight: bold\"> Trainable params: </span><span style=\"color: #00af00; text-decoration-color: #00af00\">1,313,025</span> (5.01 MB)\n",
       "</pre>\n"
      ],
      "text/plain": [
       "\u001b[1m Trainable params: \u001b[0m\u001b[38;5;34m1,313,025\u001b[0m (5.01 MB)\n"
      ]
     },
     "metadata": {},
     "output_type": "display_data"
    },
    {
     "data": {
      "text/html": [
       "<pre style=\"white-space:pre;overflow-x:auto;line-height:normal;font-family:Menlo,'DejaVu Sans Mono',consolas,'Courier New',monospace\"><span style=\"font-weight: bold\"> Non-trainable params: </span><span style=\"color: #00af00; text-decoration-color: #00af00\">0</span> (0.00 B)\n",
       "</pre>\n"
      ],
      "text/plain": [
       "\u001b[1m Non-trainable params: \u001b[0m\u001b[38;5;34m0\u001b[0m (0.00 B)\n"
      ]
     },
     "metadata": {},
     "output_type": "display_data"
    },
    {
     "data": {
      "text/html": [
       "<pre style=\"white-space:pre;overflow-x:auto;line-height:normal;font-family:Menlo,'DejaVu Sans Mono',consolas,'Courier New',monospace\"><span style=\"font-weight: bold\"> Optimizer params: </span><span style=\"color: #00af00; text-decoration-color: #00af00\">2</span> (12.00 B)\n",
       "</pre>\n"
      ],
      "text/plain": [
       "\u001b[1m Optimizer params: \u001b[0m\u001b[38;5;34m2\u001b[0m (12.00 B)\n"
      ]
     },
     "metadata": {},
     "output_type": "display_data"
    }
   ],
   "source": [
    "# Load the pre-trained model with ReLU activation\n",
    "model = load_model('simple_rnn_imdb.h5')\n",
    "model.summary()"
   ]
  },
  {
   "cell_type": "code",
   "execution_count": 5,
   "metadata": {},
   "outputs": [
    {
     "data": {
      "text/plain": [
       "[array([[-0.0421866 ,  0.02367427, -0.05826956, ...,  0.03967837,\n",
       "          0.10359894,  0.08083457],\n",
       "        [ 0.00436083, -0.01295475, -0.06162521, ...,  0.0178585 ,\n",
       "          0.00583373,  0.0584317 ],\n",
       "        [-0.0835076 , -0.07767738, -0.01398731, ...,  0.05748976,\n",
       "          0.03615865,  0.04916296],\n",
       "        ...,\n",
       "        [-0.03204413,  0.08606554,  0.04608275, ..., -0.03840323,\n",
       "          0.04497529,  0.01129978],\n",
       "        [-0.08194998, -0.03324775,  0.0671684 , ...,  0.07203094,\n",
       "         -0.02610723,  0.03695478],\n",
       "        [ 0.03699588,  0.03341119, -0.00492699, ..., -0.15537812,\n",
       "          0.04832468, -0.07885329]], dtype=float32),\n",
       " array([[-0.1180874 , -0.11142033,  0.05115242, ...,  0.15678051,\n",
       "         -0.04561586,  0.10814863],\n",
       "        [ 0.1077153 , -0.03278217, -0.08528051, ..., -0.11366184,\n",
       "         -0.07736248,  0.15598749],\n",
       "        [-0.01673934,  0.05789331, -0.12755999, ...,  0.07207987,\n",
       "         -0.12356966, -0.04033422],\n",
       "        ...,\n",
       "        [-0.14922878,  0.00626078, -0.07861272, ..., -0.1651365 ,\n",
       "          0.11646321,  0.11081661],\n",
       "        [-0.14140566,  0.03571332,  0.12390818, ...,  0.07722418,\n",
       "          0.09562069,  0.1102645 ],\n",
       "        [-0.05789831,  0.05549128, -0.15913399, ..., -0.01846188,\n",
       "          0.03626665, -0.13498844]], dtype=float32),\n",
       " array([[ 0.05110411, -0.04209853, -0.0907401 , ...,  0.04359699,\n",
       "         -0.03925829,  0.04520226],\n",
       "        [-0.08587203, -0.09161466, -0.07943685, ..., -0.09726943,\n",
       "          0.00321316,  0.05319164],\n",
       "        [-0.03847351,  0.1487816 , -0.06171918, ...,  0.12476546,\n",
       "          0.10127324, -0.00111577],\n",
       "        ...,\n",
       "        [-0.00601962,  0.17826599, -0.04766722, ...,  0.09068872,\n",
       "         -0.06524496,  0.07200597],\n",
       "        [-0.08919708, -0.05956705, -0.03067075, ...,  0.00346419,\n",
       "          0.10130869,  0.05784455],\n",
       "        [-0.09520058, -0.01307635, -0.02425291, ...,  0.05103583,\n",
       "          0.04899825, -0.00459943]], dtype=float32),\n",
       " array([-0.01531066,  0.02247385,  0.00167886, -0.01386031,  0.01606389,\n",
       "        -0.0068923 , -0.00289615,  0.00753499,  0.01219655, -0.01264256,\n",
       "        -0.03711169,  0.0002656 ,  0.00199677, -0.00370214,  0.00750808,\n",
       "         0.00444774,  0.0289288 , -0.00086926, -0.01182342,  0.00843359,\n",
       "        -0.01852989, -0.00173538, -0.00288359,  0.00580796, -0.00536261,\n",
       "        -0.0076932 , -0.01076115, -0.00553526, -0.016984  , -0.01508092,\n",
       "         0.00405929, -0.03393624,  0.00939004, -0.02788031, -0.01329783,\n",
       "        -0.01125204, -0.01526853, -0.00942767, -0.01215252,  0.00332789,\n",
       "         0.00803246,  0.00462796,  0.00635045, -0.02782447, -0.00267243,\n",
       "        -0.00791272, -0.00655969,  0.02028847, -0.01190297,  0.01175108,\n",
       "        -0.01484143,  0.00918572, -0.01135168, -0.01601155, -0.00207636,\n",
       "        -0.01090554, -0.00136477, -0.00137174, -0.02212668,  0.01414627,\n",
       "        -0.00387007,  0.01672895, -0.01724531, -0.01588847, -0.02414759,\n",
       "         0.01255373,  0.00631082, -0.01971792,  0.0105787 ,  0.0108392 ,\n",
       "         0.02061483,  0.00865923, -0.01997828, -0.00793763,  0.00214842,\n",
       "         0.00385721, -0.00245824,  0.00437094,  0.01254239, -0.04019187,\n",
       "        -0.01917552, -0.00333255,  0.02885964,  0.00620711,  0.01549733,\n",
       "        -0.010593  , -0.02616267, -0.01847963,  0.00303175, -0.00641775,\n",
       "         0.00109197, -0.00733905, -0.00311856, -0.00053875,  0.01702064,\n",
       "        -0.03183758, -0.01167165, -0.0084641 , -0.00130427,  0.00630263,\n",
       "         0.00864747,  0.00570308,  0.00396901, -0.00702705,  0.0029574 ,\n",
       "        -0.01550575,  0.02632172,  0.00688366, -0.00366838, -0.01343772,\n",
       "        -0.00027371, -0.00636605, -0.00845966,  0.00060342, -0.00896505,\n",
       "        -0.02548407,  0.00058014,  0.02716723,  0.00021429, -0.01565515,\n",
       "        -0.00928074, -0.00148322, -0.0042972 , -0.02642942, -0.0229844 ,\n",
       "        -0.00018866,  0.00165766, -0.01091149], dtype=float32),\n",
       " array([[-0.04882513],\n",
       "        [-0.14979154],\n",
       "        [ 0.16656195],\n",
       "        [ 0.11617116],\n",
       "        [ 0.58888656],\n",
       "        [ 0.1990946 ],\n",
       "        [-0.0946801 ],\n",
       "        [ 0.07348367],\n",
       "        [-0.0843358 ],\n",
       "        [ 0.0574505 ],\n",
       "        [ 0.38942575],\n",
       "        [ 0.09681355],\n",
       "        [-0.18571569],\n",
       "        [-0.10142632],\n",
       "        [ 0.0823759 ],\n",
       "        [ 0.21590061],\n",
       "        [ 0.63360196],\n",
       "        [ 0.7424827 ],\n",
       "        [ 0.08580395],\n",
       "        [-0.08965998],\n",
       "        [ 0.17088605],\n",
       "        [ 0.05877842],\n",
       "        [-0.1669121 ],\n",
       "        [ 0.1807753 ],\n",
       "        [-0.19873978],\n",
       "        [ 0.03639437],\n",
       "        [ 0.22045007],\n",
       "        [-0.07164401],\n",
       "        [-0.0799237 ],\n",
       "        [ 0.07810321],\n",
       "        [ 0.28086522],\n",
       "        [-0.49571112],\n",
       "        [ 0.16721082],\n",
       "        [ 0.18543151],\n",
       "        [-0.00322352],\n",
       "        [ 0.13319905],\n",
       "        [ 0.15228142],\n",
       "        [ 0.26001668],\n",
       "        [ 0.05299353],\n",
       "        [ 0.1641642 ],\n",
       "        [ 0.1411375 ],\n",
       "        [-0.31178185],\n",
       "        [ 0.29517677],\n",
       "        [-0.08886348],\n",
       "        [-0.21501474],\n",
       "        [-0.19908386],\n",
       "        [-0.6247533 ],\n",
       "        [ 0.39225587],\n",
       "        [-0.02660777],\n",
       "        [ 0.17899194],\n",
       "        [ 0.46394366],\n",
       "        [ 0.01187749],\n",
       "        [ 0.196184  ],\n",
       "        [-0.20317663],\n",
       "        [-0.07491804],\n",
       "        [ 0.24836881],\n",
       "        [ 0.04938814],\n",
       "        [ 0.09724654],\n",
       "        [-0.00887701],\n",
       "        [-0.22710195],\n",
       "        [-0.12798685],\n",
       "        [ 0.01351478],\n",
       "        [ 0.04514325],\n",
       "        [-0.05416263],\n",
       "        [ 0.26219445],\n",
       "        [-0.29034287],\n",
       "        [-0.00562469],\n",
       "        [-0.00718731],\n",
       "        [ 0.03022295],\n",
       "        [-0.10892732],\n",
       "        [ 1.2013004 ],\n",
       "        [ 0.00888847],\n",
       "        [-0.07791766],\n",
       "        [ 0.2138264 ],\n",
       "        [ 0.08781035],\n",
       "        [ 0.35053802],\n",
       "        [ 0.0254017 ],\n",
       "        [-0.31437606],\n",
       "        [ 0.3085152 ],\n",
       "        [ 0.27118438],\n",
       "        [ 0.10780655],\n",
       "        [-0.037903  ],\n",
       "        [-0.16712262],\n",
       "        [-0.15622383],\n",
       "        [-0.2865866 ],\n",
       "        [-0.10253284],\n",
       "        [ 0.02370509],\n",
       "        [-0.07310013],\n",
       "        [ 0.05618396],\n",
       "        [ 0.03497473],\n",
       "        [ 0.53569233],\n",
       "        [ 0.11872394],\n",
       "        [ 0.22761929],\n",
       "        [-0.2187356 ],\n",
       "        [ 0.00294938],\n",
       "        [ 0.03889275],\n",
       "        [ 0.1676631 ],\n",
       "        [ 0.17966858],\n",
       "        [ 0.10417668],\n",
       "        [-0.2615829 ],\n",
       "        [ 0.10548156],\n",
       "        [ 0.13627204],\n",
       "        [ 0.27245235],\n",
       "        [ 0.1658743 ],\n",
       "        [-0.12815422],\n",
       "        [-0.52513963],\n",
       "        [-0.17358959],\n",
       "        [ 0.02029852],\n",
       "        [ 0.08111999],\n",
       "        [ 0.21260817],\n",
       "        [ 0.09276643],\n",
       "        [ 0.01896969],\n",
       "        [-0.06322151],\n",
       "        [-0.07502227],\n",
       "        [ 0.19181657],\n",
       "        [-0.5114531 ],\n",
       "        [-0.22442833],\n",
       "        [ 0.15861426],\n",
       "        [-0.26162863],\n",
       "        [-0.05185368],\n",
       "        [ 0.1737969 ],\n",
       "        [ 0.13812461],\n",
       "        [-0.11236509],\n",
       "        [ 0.27808574],\n",
       "        [ 0.02615182],\n",
       "        [ 0.01644916],\n",
       "        [-0.20693064],\n",
       "        [-0.10218189]], dtype=float32),\n",
       " array([0.9134514], dtype=float32)]"
      ]
     },
     "execution_count": 5,
     "metadata": {},
     "output_type": "execute_result"
    }
   ],
   "source": [
    "model.get_weights()"
   ]
  },
  {
   "cell_type": "code",
   "execution_count": 6,
   "metadata": {},
   "outputs": [],
   "source": [
    "# Step 2: Helper Functions\n",
    "# Function to decode reviews\n",
    "def decode_review(encoded_review):\n",
    "    return ' '.join([reverse_word_index.get(i - 3, '?') for i in encoded_review])\n",
    "\n",
    "# Function to preprocess user input\n",
    "def preprocess_text(text):\n",
    "    words = text.lower().split()\n",
    "    encoded_review = [word_index.get(word, 2) + 3 for word in words]\n",
    "    padded_review = sequence.pad_sequences([encoded_review], maxlen=500)\n",
    "    return padded_review"
   ]
  },
  {
   "cell_type": "code",
   "execution_count": 7,
   "metadata": {},
   "outputs": [],
   "source": [
    "### Prediction  function\n",
    "\n",
    "def predict_sentiment(review):\n",
    "    preprocessed_input=preprocess_text(review)\n",
    "\n",
    "    prediction=model.predict(preprocessed_input)\n",
    "\n",
    "    sentiment = 'Positive' if prediction[0][0] > 0.5 else 'Negative'\n",
    "    \n",
    "    return sentiment, prediction[0][0]\n",
    "\n"
   ]
  },
  {
   "cell_type": "code",
   "execution_count": 8,
   "metadata": {},
   "outputs": [
    {
     "name": "stdout",
     "output_type": "stream",
     "text": [
      "\u001b[1m1/1\u001b[0m \u001b[32m━━━━━━━━━━━━━━━━━━━━\u001b[0m\u001b[37m\u001b[0m \u001b[1m0s\u001b[0m 112ms/step\n",
      "Review: This movie was bad!\n",
      "Sentiment: Positive\n",
      "Prediction Score: 0.5943900346755981\n"
     ]
    }
   ],
   "source": [
    "# Step 4: User Input and Prediction\n",
    "# Example review for prediction\n",
    "example_review = \"This movie was great! The acting was great and the plot was thrilling.\"\n",
    "\n",
    "sentiment,score=predict_sentiment(example_review)\n",
    "\n",
    "print(f'Review: {example_review}')\n",
    "print(f'Sentiment: {sentiment}')\n",
    "print(f'Prediction Score: {score}')"
   ]
  },
  {
   "cell_type": "code",
   "execution_count": null,
   "metadata": {},
   "outputs": [],
   "source": []
  },
  {
   "cell_type": "code",
   "execution_count": null,
   "metadata": {},
   "outputs": [],
   "source": []
  },
  {
   "cell_type": "code",
   "execution_count": null,
   "metadata": {},
   "outputs": [],
   "source": []
  },
  {
   "cell_type": "code",
   "execution_count": null,
   "metadata": {},
   "outputs": [],
   "source": []
  }
 ],
 "metadata": {
  "kernelspec": {
   "display_name": "Python 3",
   "language": "python",
   "name": "python3"
  },
  "language_info": {
   "codemirror_mode": {
    "name": "ipython",
    "version": 3
   },
   "file_extension": ".py",
   "mimetype": "text/x-python",
   "name": "python",
   "nbconvert_exporter": "python",
   "pygments_lexer": "ipython3",
   "version": "3.12.2"
  }
 },
 "nbformat": 4,
 "nbformat_minor": 2
}
